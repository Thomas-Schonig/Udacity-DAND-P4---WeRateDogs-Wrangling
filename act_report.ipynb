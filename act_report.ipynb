{
 "cells": [
  {
   "cell_type": "markdown",
   "metadata": {},
   "source": [
    "# DAND - Data Wrangling\n",
    "## WeRateDogs Twitter Analysis\n",
    "Tom Schonig, February 26th 2019"
   ]
  },
  {
   "cell_type": "code",
   "execution_count": 1,
   "metadata": {},
   "outputs": [
    {
     "name": "stderr",
     "output_type": "stream",
     "text": [
      "/opt/conda/lib/python3.6/site-packages/statsmodels/compat/pandas.py:56: FutureWarning: The pandas.core.datetools module is deprecated and will be removed in a future version. Please use the pandas.tseries module instead.\n",
      "  from pandas.core import datetools\n"
     ]
    }
   ],
   "source": [
    "import pandas as pd\n",
    "import numpy as np\n",
    "import statsmodels.api as sm\n",
    "from matplotlib import pyplot as plt"
   ]
  },
  {
   "cell_type": "code",
   "execution_count": 2,
   "metadata": {},
   "outputs": [],
   "source": [
    "twitter_archive_master = pd.read_csv('twitter_archive_master.csv',encoding='utf-8')\n",
    "image_predictions_clean = pd.read_csv('image_predictions_clean.csv',encoding='utf-8')\n",
    "twitter_archive_master['intercept'] = 1"
   ]
  },
  {
   "cell_type": "markdown",
   "metadata": {},
   "source": [
    "### A Doggo By Any Other Name\n",
    "As an ethusiastic dog owner, I've been caught calling my pup innumerate, unintelligible nicknames. The phenomena of 'doggos', 'puppers', etc, have also led to countless hours of meme-entertainment. So I was curious if there's any meaningiful correlation between these silly, fun-loving names and social media engagement - or, if 'a dog is a dog is a dog' (our null hypothesis: there's no difference between the terms used, and each dog will have roughly equivalent engagement).\n",
    "\n",
    "Thankfully, the WeRateDogs dataset provided for this project made an attempt to break these out where each dog is described as either a 'doggo', 'pupper', 'floofer', or 'puppo'. We can examine and quantify these relationships using multiple linear regression. We'll use an alpha value of 0.15 to test our null hypothesis (while a low threshold for scientific studies, easing this makes sense since we're having fun looking at dog tweets).\n",
    "\n",
    "#### Favorite / Likes"
   ]
  },
  {
   "cell_type": "code",
   "execution_count": 3,
   "metadata": {},
   "outputs": [
    {
     "data": {
      "text/html": [
       "<table class=\"simpletable\">\n",
       "<caption>OLS Regression Results</caption>\n",
       "<tr>\n",
       "  <th>Dep. Variable:</th>     <td>favorite_count</td>  <th>  R-squared:         </th> <td>   0.016</td> \n",
       "</tr>\n",
       "<tr>\n",
       "  <th>Model:</th>                   <td>OLS</td>       <th>  Adj. R-squared:    </th> <td>   0.014</td> \n",
       "</tr>\n",
       "<tr>\n",
       "  <th>Method:</th>             <td>Least Squares</td>  <th>  F-statistic:       </th> <td>   11.00</td> \n",
       "</tr>\n",
       "<tr>\n",
       "  <th>Date:</th>             <td>Tue, 26 Feb 2019</td> <th>  Prob (F-statistic):</th> <td>3.66e-07</td> \n",
       "</tr>\n",
       "<tr>\n",
       "  <th>Time:</th>                 <td>18:42:21</td>     <th>  Log-Likelihood:    </th> <td> -22685.</td> \n",
       "</tr>\n",
       "<tr>\n",
       "  <th>No. Observations:</th>      <td>  2089</td>      <th>  AIC:               </th> <td>4.538e+04</td>\n",
       "</tr>\n",
       "<tr>\n",
       "  <th>Df Residuals:</th>          <td>  2085</td>      <th>  BIC:               </th> <td>4.540e+04</td>\n",
       "</tr>\n",
       "<tr>\n",
       "  <th>Df Model:</th>              <td>     3</td>      <th>                     </th>     <td> </td>    \n",
       "</tr>\n",
       "<tr>\n",
       "  <th>Covariance Type:</th>      <td>nonrobust</td>    <th>                     </th>     <td> </td>    \n",
       "</tr>\n",
       "</table>\n",
       "<table class=\"simpletable\">\n",
       "<tr>\n",
       "      <td></td>         <th>coef</th>     <th>std err</th>      <th>t</th>      <th>P>|t|</th>  <th>[0.025</th>    <th>0.975]</th>  \n",
       "</tr>\n",
       "<tr>\n",
       "  <th>intercept</th> <td> 8751.4606</td> <td>  294.784</td> <td>   29.688</td> <td> 0.000</td> <td> 8173.359</td> <td> 9329.562</td>\n",
       "</tr>\n",
       "<tr>\n",
       "  <th>floofer</th>   <td> 2406.7394</td> <td> 3994.296</td> <td>    0.603</td> <td> 0.547</td> <td>-5426.484</td> <td> 1.02e+04</td>\n",
       "</tr>\n",
       "<tr>\n",
       "  <th>puppo</th>     <td> 1.394e+04</td> <td> 2588.118</td> <td>    5.388</td> <td> 0.000</td> <td> 8868.224</td> <td>  1.9e+04</td>\n",
       "</tr>\n",
       "<tr>\n",
       "  <th>pupper</th>    <td>-1492.3077</td> <td>  883.064</td> <td>   -1.690</td> <td> 0.091</td> <td>-3224.086</td> <td>  239.471</td>\n",
       "</tr>\n",
       "</table>\n",
       "<table class=\"simpletable\">\n",
       "<tr>\n",
       "  <th>Omnibus:</th>       <td>1938.172</td> <th>  Durbin-Watson:     </th> <td>   1.251</td> \n",
       "</tr>\n",
       "<tr>\n",
       "  <th>Prob(Omnibus):</th>  <td> 0.000</td>  <th>  Jarque-Bera (JB):  </th> <td>90122.881</td>\n",
       "</tr>\n",
       "<tr>\n",
       "  <th>Skew:</th>           <td> 4.323</td>  <th>  Prob(JB):          </th> <td>    0.00</td> \n",
       "</tr>\n",
       "<tr>\n",
       "  <th>Kurtosis:</th>       <td>33.994</td>  <th>  Cond. No.          </th> <td>    14.6</td> \n",
       "</tr>\n",
       "</table>"
      ],
      "text/plain": [
       "<class 'statsmodels.iolib.summary.Summary'>\n",
       "\"\"\"\n",
       "                            OLS Regression Results                            \n",
       "==============================================================================\n",
       "Dep. Variable:         favorite_count   R-squared:                       0.016\n",
       "Model:                            OLS   Adj. R-squared:                  0.014\n",
       "Method:                 Least Squares   F-statistic:                     11.00\n",
       "Date:                Tue, 26 Feb 2019   Prob (F-statistic):           3.66e-07\n",
       "Time:                        18:42:21   Log-Likelihood:                -22685.\n",
       "No. Observations:                2089   AIC:                         4.538e+04\n",
       "Df Residuals:                    2085   BIC:                         4.540e+04\n",
       "Df Model:                           3                                         \n",
       "Covariance Type:            nonrobust                                         \n",
       "==============================================================================\n",
       "                 coef    std err          t      P>|t|      [0.025      0.975]\n",
       "------------------------------------------------------------------------------\n",
       "intercept   8751.4606    294.784     29.688      0.000    8173.359    9329.562\n",
       "floofer     2406.7394   3994.296      0.603      0.547   -5426.484    1.02e+04\n",
       "puppo       1.394e+04   2588.118      5.388      0.000    8868.224     1.9e+04\n",
       "pupper     -1492.3077    883.064     -1.690      0.091   -3224.086     239.471\n",
       "==============================================================================\n",
       "Omnibus:                     1938.172   Durbin-Watson:                   1.251\n",
       "Prob(Omnibus):                  0.000   Jarque-Bera (JB):            90122.881\n",
       "Skew:                           4.323   Prob(JB):                         0.00\n",
       "Kurtosis:                      33.994   Cond. No.                         14.6\n",
       "==============================================================================\n",
       "\n",
       "Warnings:\n",
       "[1] Standard Errors assume that the covariance matrix of the errors is correctly specified.\n",
       "\"\"\""
      ]
     },
     "execution_count": 3,
     "metadata": {},
     "output_type": "execute_result"
    }
   ],
   "source": [
    "lm = sm.OLS(twitter_archive_master['favorite_count'],twitter_archive_master[['intercept','floofer','puppo','pupper']])\n",
    "result=lm.fit()\n",
    "result.summary()"
   ]
  },
  {
   "cell_type": "markdown",
   "metadata": {},
   "source": [
    "#### Retweets"
   ]
  },
  {
   "cell_type": "code",
   "execution_count": 4,
   "metadata": {},
   "outputs": [
    {
     "data": {
      "text/html": [
       "<table class=\"simpletable\">\n",
       "<caption>OLS Regression Results</caption>\n",
       "<tr>\n",
       "  <th>Dep. Variable:</th>      <td>retweet_count</td>  <th>  R-squared:         </th> <td>   0.010</td> \n",
       "</tr>\n",
       "<tr>\n",
       "  <th>Model:</th>                   <td>OLS</td>       <th>  Adj. R-squared:    </th> <td>   0.008</td> \n",
       "</tr>\n",
       "<tr>\n",
       "  <th>Method:</th>             <td>Least Squares</td>  <th>  F-statistic:       </th> <td>   6.750</td> \n",
       "</tr>\n",
       "<tr>\n",
       "  <th>Date:</th>             <td>Tue, 26 Feb 2019</td> <th>  Prob (F-statistic):</th> <td>0.000157</td> \n",
       "</tr>\n",
       "<tr>\n",
       "  <th>Time:</th>                 <td>18:42:21</td>     <th>  Log-Likelihood:    </th> <td> -20619.</td> \n",
       "</tr>\n",
       "<tr>\n",
       "  <th>No. Observations:</th>      <td>  2089</td>      <th>  AIC:               </th> <td>4.125e+04</td>\n",
       "</tr>\n",
       "<tr>\n",
       "  <th>Df Residuals:</th>          <td>  2085</td>      <th>  BIC:               </th> <td>4.127e+04</td>\n",
       "</tr>\n",
       "<tr>\n",
       "  <th>Df Model:</th>              <td>     3</td>      <th>                     </th>     <td> </td>    \n",
       "</tr>\n",
       "<tr>\n",
       "  <th>Covariance Type:</th>      <td>nonrobust</td>    <th>                     </th>     <td> </td>    \n",
       "</tr>\n",
       "</table>\n",
       "<table class=\"simpletable\">\n",
       "<tr>\n",
       "      <td></td>         <th>coef</th>     <th>std err</th>      <th>t</th>      <th>P>|t|</th>  <th>[0.025</th>    <th>0.975]</th>  \n",
       "</tr>\n",
       "<tr>\n",
       "  <th>intercept</th> <td> 2674.3352</td> <td>  109.669</td> <td>   24.386</td> <td> 0.000</td> <td> 2459.263</td> <td> 2889.407</td>\n",
       "</tr>\n",
       "<tr>\n",
       "  <th>floofer</th>   <td> 1157.7648</td> <td> 1486.003</td> <td>    0.779</td> <td> 0.436</td> <td>-1756.439</td> <td> 4071.969</td>\n",
       "</tr>\n",
       "<tr>\n",
       "  <th>puppo</th>     <td> 4172.9148</td> <td>  962.861</td> <td>    4.334</td> <td> 0.000</td> <td> 2284.646</td> <td> 6061.184</td>\n",
       "</tr>\n",
       "<tr>\n",
       "  <th>pupper</th>    <td> -254.1474</td> <td>  328.527</td> <td>   -0.774</td> <td> 0.439</td> <td> -898.423</td> <td>  390.128</td>\n",
       "</tr>\n",
       "</table>\n",
       "<table class=\"simpletable\">\n",
       "<tr>\n",
       "  <th>Omnibus:</th>       <td>2705.471</td> <th>  Durbin-Watson:     </th>  <td>   1.735</td> \n",
       "</tr>\n",
       "<tr>\n",
       "  <th>Prob(Omnibus):</th>  <td> 0.000</td>  <th>  Jarque-Bera (JB):  </th> <td>557057.703</td>\n",
       "</tr>\n",
       "<tr>\n",
       "  <th>Skew:</th>           <td> 6.995</td>  <th>  Prob(JB):          </th>  <td>    0.00</td> \n",
       "</tr>\n",
       "<tr>\n",
       "  <th>Kurtosis:</th>       <td>81.767</td>  <th>  Cond. No.          </th>  <td>    14.6</td> \n",
       "</tr>\n",
       "</table>"
      ],
      "text/plain": [
       "<class 'statsmodels.iolib.summary.Summary'>\n",
       "\"\"\"\n",
       "                            OLS Regression Results                            \n",
       "==============================================================================\n",
       "Dep. Variable:          retweet_count   R-squared:                       0.010\n",
       "Model:                            OLS   Adj. R-squared:                  0.008\n",
       "Method:                 Least Squares   F-statistic:                     6.750\n",
       "Date:                Tue, 26 Feb 2019   Prob (F-statistic):           0.000157\n",
       "Time:                        18:42:21   Log-Likelihood:                -20619.\n",
       "No. Observations:                2089   AIC:                         4.125e+04\n",
       "Df Residuals:                    2085   BIC:                         4.127e+04\n",
       "Df Model:                           3                                         \n",
       "Covariance Type:            nonrobust                                         \n",
       "==============================================================================\n",
       "                 coef    std err          t      P>|t|      [0.025      0.975]\n",
       "------------------------------------------------------------------------------\n",
       "intercept   2674.3352    109.669     24.386      0.000    2459.263    2889.407\n",
       "floofer     1157.7648   1486.003      0.779      0.436   -1756.439    4071.969\n",
       "puppo       4172.9148    962.861      4.334      0.000    2284.646    6061.184\n",
       "pupper      -254.1474    328.527     -0.774      0.439    -898.423     390.128\n",
       "==============================================================================\n",
       "Omnibus:                     2705.471   Durbin-Watson:                   1.735\n",
       "Prob(Omnibus):                  0.000   Jarque-Bera (JB):           557057.703\n",
       "Skew:                           6.995   Prob(JB):                         0.00\n",
       "Kurtosis:                      81.767   Cond. No.                         14.6\n",
       "==============================================================================\n",
       "\n",
       "Warnings:\n",
       "[1] Standard Errors assume that the covariance matrix of the errors is correctly specified.\n",
       "\"\"\""
      ]
     },
     "execution_count": 4,
     "metadata": {},
     "output_type": "execute_result"
    }
   ],
   "source": [
    "lm = sm.OLS(twitter_archive_master['retweet_count'],twitter_archive_master[['intercept','floofer','puppo','pupper']])\n",
    "result=lm.fit()\n",
    "result.summary()"
   ]
  },
  {
   "cell_type": "markdown",
   "metadata": {},
   "source": [
    "Surprisingly, we see some significant correlations in both favorites and retweets.\n",
    "    - 'puppos' are more likely to be favorited and retweeted than vanilla 'doggos' (both favorite and retweet p=0.00)\n",
    "    - 'puppers' are less likely to be favorited than 'doggos' (favorite p=0.09)"
   ]
  },
  {
   "cell_type": "markdown",
   "metadata": {},
   "source": [
    "## Can the WeRateDogs Ratings Predict User Engagement?\n"
   ]
  },
  {
   "cell_type": "markdown",
   "metadata": {},
   "source": [
    "Much of the charm of WeRateDogs comes from its biased rating system, which consistently rates dogs higher than 10/10. There are also persistent jokes on the account with non-dogs scoring lowly, and some pups scoring really well for arbitrary reasons. Do these ratings actually relate to increased user engagement? Do their scores actually matter?\n",
    "\n",
    "We can start by taking a quick look at their scoring ratios (numerator / denominator) against their favorite / like interactions. During our wrangling of the dataset, we found two tweets with extreme outlier Dog Score values that conformed to our validation rules, so we'll remove them before statistical analyses."
   ]
  },
  {
   "cell_type": "code",
   "execution_count": 53,
   "metadata": {},
   "outputs": [
    {
     "data": {
      "image/png": "[encoded data removed]",
      "text/plain": [
       "<matplotlib.figure.Figure at 0x7f3339b1e978>"
      ]
     },
     "metadata": {
      "needs_background": "light"
     },
     "output_type": "display_data"
    }
   ],
   "source": [
    "upper_bound = twitter_archive_master.dog_score.quantile(0.99)\n",
    "without_outliers = twitter_archive_master[twitter_archive_master.dog_score < upper_bound]\n",
    "x = without_outliers['dog_score']\n",
    "y = without_outliers['favorite_count']\n",
    "y_med = [np.median(y)]*len(x)\n",
    "fig,ax = plt.subplots()\n",
    "scatter = ax.scatter(x,y,label='WeRateDog Tweet',s=0.5)\n",
    "median = ax.plot(x,y_med,label='Favorite Median',linestyle='--',color='g')\n",
    "legend = ax.legend(loc='upper right')\n",
    "plt.xlabel('Dog Score')\n",
    "plt.ylabel('Favorites')\n",
    "plt.show()"
   ]
  },
  {
   "cell_type": "markdown",
   "metadata": {},
   "source": [
    "At a glance, we can see that their most engaging tweets (highest favorites) do contain their highest scores as well. Furthermore, there appears to be a slight slope to the upper right of the plot, suggesting that higher scoring doggos tend to score better with the general public as well. We can test this relationship with linear regression to see if this relationishp actually exists (and whether its signifigant), or if we're just seeing patterns of no real relevance.\n",
    "\n",
    "We assume, by default, that there is no significant and persistent effect throughout the dataset - that is, a higher rating given to a dog does not lead to higher user engagement (all else equal). We alternatively hypothesize that a higher dog rating leads to more favoriting / liking by end-users. We will accept the alternate with an alpha threshold of 0.05."
   ]
  },
  {
   "cell_type": "code",
   "execution_count": 44,
   "metadata": {},
   "outputs": [
    {
     "data": {
      "text/html": [
       "<table class=\"simpletable\">\n",
       "<caption>OLS Regression Results</caption>\n",
       "<tr>\n",
       "  <th>Dep. Variable:</th>     <td>favorite_count</td>  <th>  R-squared:         </th> <td>   0.000</td> \n",
       "</tr>\n",
       "<tr>\n",
       "  <th>Model:</th>                   <td>OLS</td>       <th>  Adj. R-squared:    </th> <td>  -0.000</td> \n",
       "</tr>\n",
       "<tr>\n",
       "  <th>Method:</th>             <td>Least Squares</td>  <th>  F-statistic:       </th> <td>  0.9353</td> \n",
       "</tr>\n",
       "<tr>\n",
       "  <th>Date:</th>             <td>Tue, 26 Feb 2019</td> <th>  Prob (F-statistic):</th>  <td> 0.334</td>  \n",
       "</tr>\n",
       "<tr>\n",
       "  <th>Time:</th>                 <td>19:12:29</td>     <th>  Log-Likelihood:    </th> <td> -22701.</td> \n",
       "</tr>\n",
       "<tr>\n",
       "  <th>No. Observations:</th>      <td>  2089</td>      <th>  AIC:               </th> <td>4.541e+04</td>\n",
       "</tr>\n",
       "<tr>\n",
       "  <th>Df Residuals:</th>          <td>  2087</td>      <th>  BIC:               </th> <td>4.542e+04</td>\n",
       "</tr>\n",
       "<tr>\n",
       "  <th>Df Model:</th>              <td>     1</td>      <th>                     </th>     <td> </td>    \n",
       "</tr>\n",
       "<tr>\n",
       "  <th>Covariance Type:</th>      <td>nonrobust</td>    <th>                     </th>     <td> </td>    \n",
       "</tr>\n",
       "</table>\n",
       "<table class=\"simpletable\">\n",
       "<tr>\n",
       "      <td></td>         <th>coef</th>     <th>std err</th>      <th>t</th>      <th>P>|t|</th>  <th>[0.025</th>    <th>0.975]</th>  \n",
       "</tr>\n",
       "<tr>\n",
       "  <th>intercept</th> <td> 8680.8135</td> <td>  289.284</td> <td>   30.008</td> <td> 0.000</td> <td> 8113.498</td> <td> 9248.129</td>\n",
       "</tr>\n",
       "<tr>\n",
       "  <th>dog_score</th> <td>   67.6295</td> <td>   69.929</td> <td>    0.967</td> <td> 0.334</td> <td>  -69.508</td> <td>  204.767</td>\n",
       "</tr>\n",
       "</table>\n",
       "<table class=\"simpletable\">\n",
       "<tr>\n",
       "  <th>Omnibus:</th>       <td>1961.996</td> <th>  Durbin-Watson:     </th> <td>   1.220</td> \n",
       "</tr>\n",
       "<tr>\n",
       "  <th>Prob(Omnibus):</th>  <td> 0.000</td>  <th>  Jarque-Bera (JB):  </th> <td>95072.709</td>\n",
       "</tr>\n",
       "<tr>\n",
       "  <th>Skew:</th>           <td> 4.395</td>  <th>  Prob(JB):          </th> <td>    0.00</td> \n",
       "</tr>\n",
       "<tr>\n",
       "  <th>Kurtosis:</th>       <td>34.859</td>  <th>  Cond. No.          </th> <td>    4.33</td> \n",
       "</tr>\n",
       "</table>"
      ],
      "text/plain": [
       "<class 'statsmodels.iolib.summary.Summary'>\n",
       "\"\"\"\n",
       "                            OLS Regression Results                            \n",
       "==============================================================================\n",
       "Dep. Variable:         favorite_count   R-squared:                       0.000\n",
       "Model:                            OLS   Adj. R-squared:                 -0.000\n",
       "Method:                 Least Squares   F-statistic:                    0.9353\n",
       "Date:                Tue, 26 Feb 2019   Prob (F-statistic):              0.334\n",
       "Time:                        19:12:29   Log-Likelihood:                -22701.\n",
       "No. Observations:                2089   AIC:                         4.541e+04\n",
       "Df Residuals:                    2087   BIC:                         4.542e+04\n",
       "Df Model:                           1                                         \n",
       "Covariance Type:            nonrobust                                         \n",
       "==============================================================================\n",
       "                 coef    std err          t      P>|t|      [0.025      0.975]\n",
       "------------------------------------------------------------------------------\n",
       "intercept   8680.8135    289.284     30.008      0.000    8113.498    9248.129\n",
       "dog_score     67.6295     69.929      0.967      0.334     -69.508     204.767\n",
       "==============================================================================\n",
       "Omnibus:                     1961.996   Durbin-Watson:                   1.220\n",
       "Prob(Omnibus):                  0.000   Jarque-Bera (JB):            95072.709\n",
       "Skew:                           4.395   Prob(JB):                         0.00\n",
       "Kurtosis:                      34.859   Cond. No.                         4.33\n",
       "==============================================================================\n",
       "\n",
       "Warnings:\n",
       "[1] Standard Errors assume that the covariance matrix of the errors is correctly specified.\n",
       "\"\"\""
      ]
     },
     "execution_count": 44,
     "metadata": {},
     "output_type": "execute_result"
    }
   ],
   "source": [
    "lm = sm.OLS(twitter_archive_master['favorite_count'],twitter_archive_master[['intercept','dog_score']])\n",
    "result = lm.fit()\n",
    "result.summary()"
   ]
  },
  {
   "cell_type": "markdown",
   "metadata": {},
   "source": [
    "With an r-score of 0 and p-value of 0.334, we continue to accept that the actual rating WeRateDogs gives to each pupper does not, in fact, significantly influence their user-engagement."
   ]
  },
  {
   "cell_type": "markdown",
   "metadata": {},
   "source": [
    "### Do Dogs Even Matter?"
   ]
  },
  {
   "cell_type": "markdown",
   "metadata": {},
   "source": [
    "Answer: Of course they do!! But the account also posts plenty of ratings, where the poor creature being judged isn't even a dog! Talk about being held to an impossible standard.\n",
    "\n",
    "As part of the project, Udacity provided the output from a neural network that evaluated each tweet and tried to make predictions about what was in the image - including whether the photo was of a dog or not. We can use these predictions to see if the account's jokes had any effect on user engagement.\n",
    "\n",
    "As before, our default assumption is that these jokes had no real impact on user engagement - their audience were no more or less inclined to favorite a tweet based on the joke. We alternatively hypothesize that it matters whether they post a dog or not, and set an alpha threshold for acceptance at 0.50."
   ]
  },
  {
   "cell_type": "code",
   "execution_count": 82,
   "metadata": {},
   "outputs": [],
   "source": [
    "merged_dfs = twitter_archive_master.set_index('tweet_id').join(image_predictions_clean.set_index('tweet_id'))\n",
    "merged_dfs = merged_dfs[merged_dfs.is_predicted_dog.notnull()]\n",
    "merged_dfs[['not_dog','is_dog']] = pd.get_dummies(merged_dfs['is_predicted_dog'])"
   ]
  },
  {
   "cell_type": "code",
   "execution_count": 83,
   "metadata": {},
   "outputs": [
    {
     "data": {
      "text/html": [
       "<table class=\"simpletable\">\n",
       "<caption>OLS Regression Results</caption>\n",
       "<tr>\n",
       "  <th>Dep. Variable:</th>     <td>favorite_count</td>  <th>  R-squared:         </th> <td>   0.002</td> \n",
       "</tr>\n",
       "<tr>\n",
       "  <th>Model:</th>                   <td>OLS</td>       <th>  Adj. R-squared:    </th> <td>   0.002</td> \n",
       "</tr>\n",
       "<tr>\n",
       "  <th>Method:</th>             <td>Least Squares</td>  <th>  F-statistic:       </th> <td>   11.76</td> \n",
       "</tr>\n",
       "<tr>\n",
       "  <th>Date:</th>             <td>Tue, 26 Feb 2019</td> <th>  Prob (F-statistic):</th> <td>0.000609</td> \n",
       "</tr>\n",
       "<tr>\n",
       "  <th>Time:</th>                 <td>19:49:58</td>     <th>  Log-Likelihood:    </th> <td> -64210.</td> \n",
       "</tr>\n",
       "<tr>\n",
       "  <th>No. Observations:</th>      <td>  5904</td>      <th>  AIC:               </th> <td>1.284e+05</td>\n",
       "</tr>\n",
       "<tr>\n",
       "  <th>Df Residuals:</th>          <td>  5902</td>      <th>  BIC:               </th> <td>1.284e+05</td>\n",
       "</tr>\n",
       "<tr>\n",
       "  <th>Df Model:</th>              <td>     1</td>      <th>                     </th>     <td> </td>    \n",
       "</tr>\n",
       "<tr>\n",
       "  <th>Covariance Type:</th>      <td>nonrobust</td>    <th>                     </th>     <td> </td>    \n",
       "</tr>\n",
       "</table>\n",
       "<table class=\"simpletable\">\n",
       "<tr>\n",
       "      <td></td>         <th>coef</th>     <th>std err</th>      <th>t</th>      <th>P>|t|</th>  <th>[0.025</th>    <th>0.975]</th>  \n",
       "</tr>\n",
       "<tr>\n",
       "  <th>intercept</th> <td> 9084.8559</td> <td>  193.685</td> <td>   46.905</td> <td> 0.000</td> <td> 8705.163</td> <td> 9464.549</td>\n",
       "</tr>\n",
       "<tr>\n",
       "  <th>not_dog</th>   <td>-1300.9462</td> <td>  379.358</td> <td>   -3.429</td> <td> 0.001</td> <td>-2044.627</td> <td> -557.265</td>\n",
       "</tr>\n",
       "</table>\n",
       "<table class=\"simpletable\">\n",
       "<tr>\n",
       "  <th>Omnibus:</th>       <td>5510.408</td> <th>  Durbin-Watson:     </th>  <td>   0.404</td> \n",
       "</tr>\n",
       "<tr>\n",
       "  <th>Prob(Omnibus):</th>  <td> 0.000</td>  <th>  Jarque-Bera (JB):  </th> <td>274639.346</td>\n",
       "</tr>\n",
       "<tr>\n",
       "  <th>Skew:</th>           <td> 4.440</td>  <th>  Prob(JB):          </th>  <td>    0.00</td> \n",
       "</tr>\n",
       "<tr>\n",
       "  <th>Kurtosis:</th>       <td>35.211</td>  <th>  Cond. No.          </th>  <td>    2.47</td> \n",
       "</tr>\n",
       "</table>"
      ],
      "text/plain": [
       "<class 'statsmodels.iolib.summary.Summary'>\n",
       "\"\"\"\n",
       "                            OLS Regression Results                            \n",
       "==============================================================================\n",
       "Dep. Variable:         favorite_count   R-squared:                       0.002\n",
       "Model:                            OLS   Adj. R-squared:                  0.002\n",
       "Method:                 Least Squares   F-statistic:                     11.76\n",
       "Date:                Tue, 26 Feb 2019   Prob (F-statistic):           0.000609\n",
       "Time:                        19:49:58   Log-Likelihood:                -64210.\n",
       "No. Observations:                5904   AIC:                         1.284e+05\n",
       "Df Residuals:                    5902   BIC:                         1.284e+05\n",
       "Df Model:                           1                                         \n",
       "Covariance Type:            nonrobust                                         \n",
       "==============================================================================\n",
       "                 coef    std err          t      P>|t|      [0.025      0.975]\n",
       "------------------------------------------------------------------------------\n",
       "intercept   9084.8559    193.685     46.905      0.000    8705.163    9464.549\n",
       "not_dog    -1300.9462    379.358     -3.429      0.001   -2044.627    -557.265\n",
       "==============================================================================\n",
       "Omnibus:                     5510.408   Durbin-Watson:                   0.404\n",
       "Prob(Omnibus):                  0.000   Jarque-Bera (JB):           274639.346\n",
       "Skew:                           4.440   Prob(JB):                         0.00\n",
       "Kurtosis:                      35.211   Cond. No.                         2.47\n",
       "==============================================================================\n",
       "\n",
       "Warnings:\n",
       "[1] Standard Errors assume that the covariance matrix of the errors is correctly specified.\n",
       "\"\"\""
      ]
     },
     "execution_count": 83,
     "metadata": {},
     "output_type": "execute_result"
    }
   ],
   "source": [
    "lm = sm.OLS(merged_dfs['favorite_count'],merged_dfs[['intercept','not_dog']])\n",
    "result= lm.fit()\n",
    "result.summary()"
   ]
  },
  {
   "cell_type": "markdown",
   "metadata": {},
   "source": [
    "With a p-value well within our threshold (0.001 < 0.500), we reject the null hypothesis and now hold our findings with significance. All else equal, the non-dog photos should average 1301 fewer favorites."
   ]
  }
 ],
 "metadata": {
  "kernelspec": {
   "display_name": "Python 3",
   "language": "python",
   "name": "python3"
  },
  "language_info": {
   "codemirror_mode": {
    "name": "ipython",
    "version": 3
   },
   "file_extension": ".py",
   "mimetype": "text/x-python",
   "name": "python",
   "nbconvert_exporter": "python",
   "pygments_lexer": "ipython3",
   "version": "3.6.3"
  }
 },
 "nbformat": 4,
 "nbformat_minor": 2
}
